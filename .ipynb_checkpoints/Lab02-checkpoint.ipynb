{
 "cells": [
  {
   "cell_type": "code",
   "execution_count": 1,
   "id": "7070087f-8063-4cc6-a009-53a46ea7678b",
   "metadata": {},
   "outputs": [],
   "source": [
    "import pandas as pd"
   ]
  },
  {
   "cell_type": "markdown",
   "id": "571bc077-82d7-4a64-9296-6ada84a30739",
   "metadata": {},
   "source": [
    "# Preparando Datos"
   ]
  },
  {
   "cell_type": "code",
   "execution_count": 2,
   "id": "3ee28cf9-8abc-4b54-aafd-ceb4776664b0",
   "metadata": {},
   "outputs": [],
   "source": [
    "data = pd.read_csv('dataset.csv')"
   ]
  },
  {
   "cell_type": "code",
   "execution_count": null,
   "id": "02c3d6a9-1162-4c01-8993-914964f04f92",
   "metadata": {},
   "outputs": [],
   "source": []
  }
 ],
 "metadata": {
  "kernelspec": {
   "display_name": "Python 3 (ipykernel)",
   "language": "python",
   "name": "python3"
  },
  "language_info": {
   "codemirror_mode": {
    "name": "ipython",
    "version": 3
   },
   "file_extension": ".py",
   "mimetype": "text/x-python",
   "name": "python",
   "nbconvert_exporter": "python",
   "pygments_lexer": "ipython3",
   "version": "3.11.2"
  }
 },
 "nbformat": 4,
 "nbformat_minor": 5
}
